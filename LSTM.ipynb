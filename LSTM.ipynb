{
  "nbformat": 4,
  "nbformat_minor": 0,
  "metadata": {
    "colab": {
      "name": "LSTM.ipynb",
      "provenance": [],
      "history_visible": true,
      "mount_file_id": "1iqlnmPiatT7PaxTO6BUUQA-fUAb4h99i",
      "authorship_tag": "ABX9TyNTpdg11juMSLxNdyQD4Db3",
      "include_colab_link": true
    },
    "kernelspec": {
      "name": "python3",
      "display_name": "Python 3"
    },
    "language_info": {
      "name": "python"
    }
  },
  "cells": [
    {
      "cell_type": "markdown",
      "metadata": {
        "id": "view-in-github",
        "colab_type": "text"
      },
      "source": [
        "<a href=\"https://colab.research.google.com/github/zahraDehghanian97/LSTM_sequence_prediction/blob/master/LSTM.ipynb\" target=\"_parent\"><img src=\"https://colab.research.google.com/assets/colab-badge.svg\" alt=\"Open In Colab\"/></a>"
      ]
    },
    {
      "cell_type": "markdown",
      "metadata": {
        "id": "TWheA6CSj3ft"
      },
      "source": [
        "# **Mount google drive**"
      ]
    },
    {
      "cell_type": "code",
      "metadata": {
        "colab": {
          "base_uri": "https://localhost:8080/"
        },
        "id": "9r3444wwj6Mr",
        "outputId": "2a1ab643-432d-433e-e5c9-ea3dde1c992b"
      },
      "source": [
        "from google.colab import drive\n",
        "drive.mount('/content/drive')"
      ],
      "execution_count": 2,
      "outputs": [
        {
          "output_type": "stream",
          "text": [
            "Drive already mounted at /content/drive; to attempt to forcibly remount, call drive.mount(\"/content/drive\", force_remount=True).\n"
          ],
          "name": "stdout"
        }
      ]
    },
    {
      "cell_type": "markdown",
      "metadata": {
        "id": "YTSvl-QYjyo3"
      },
      "source": [
        "# **prerequisit**"
      ]
    },
    {
      "cell_type": "code",
      "metadata": {
        "id": "m2F_EIyczeua"
      },
      "source": [
        "%tensorflow_version 2.x\n",
        "import pandas as pd\n",
        "import numpy as np\n",
        "from tensorflow.keras.models import Sequential\n",
        "from tensorflow.keras.layers import Dense , LSTM , Dropout , Masking\n",
        "from tensorflow.keras.losses import SparseCategoricalCrossentropy\n",
        "from tensorflow.keras.backend import clear_session \n",
        "from tensorflow.keras.callbacks import ModelCheckpoint\n",
        "from dataclasses import make_dataclass"
      ],
      "execution_count": 3,
      "outputs": []
    },
    {
      "cell_type": "markdown",
      "metadata": {
        "id": "5tmrWx7z1Uce"
      },
      "source": [
        "# **load data**"
      ]
    },
    {
      "cell_type": "code",
      "metadata": {
        "id": "9Ja4SgpL1ZCY"
      },
      "source": [
        "\n",
        "data_train = pd.read_csv('/content/drive/MyDrive/Colab Notebooks/predict_next_game/train.csv')\n",
        "X = []\n",
        "y = []\n",
        "seq_lens = []\n",
        "\n",
        "for d in data_train.values:\n",
        "    temp = []\n",
        "    for t in d[1].split(\" \"):\n",
        "        temp.append(int(t))\n",
        "    X.append((temp))\n",
        "    y.append( d[2])\n",
        "    seq_lens.append(len(temp))\n",
        "\n",
        "data_test = pd.read_csv('/content/drive/MyDrive/Colab Notebooks/predict_next_game/test.csv')\n",
        "X_test = []\n",
        "index_test = []\n",
        "for d in data_test.values:\n",
        "    index_test.append(d[0])\n",
        "    temp = []\n",
        "    for t in d[1].split(\" \"):\n",
        "        temp.append(int(t))\n",
        "    X_test.append((temp))\n",
        "    \n"
      ],
      "execution_count": 4,
      "outputs": []
    },
    {
      "cell_type": "code",
      "metadata": {
        "id": "dc--HD2_M-Ra"
      },
      "source": [
        "# constant\n",
        "num_class = 7736\n",
        "dimension = 1\n",
        "lstm_units = 20"
      ],
      "execution_count": 5,
      "outputs": []
    },
    {
      "cell_type": "markdown",
      "metadata": {
        "id": "_CzSUDzMMMEr"
      },
      "source": [
        "# **Reshape data**   : padding"
      ]
    },
    {
      "cell_type": "code",
      "metadata": {
        "id": "-1wAVNvIMP_l"
      },
      "source": [
        "# pad data with maximum len\n",
        "special_value = -10.0\n",
        "max_seq_len = max(seq_lens)\n",
        "Xpad = np.full((len(X), max_seq_len, dimension), fill_value=special_value)\n",
        "for s, x in enumerate(X):\n",
        "    seq_len = len(x)\n",
        "    xx = np.array(x)\n",
        "    Xpad[s, 0:seq_len, :] = xx.reshape(seq_len,1)\n",
        "y = np.array(y)\n",
        "\n",
        "# split validation data from train data\n",
        "Xpad_validation = Xpad[:200]\n",
        "Xpad = Xpad[200:]\n",
        "y_validation = y[:200]\n",
        "y = y[200:]\n",
        "\n",
        "# test data \n",
        "Xpad_test = np.full((len(X_test), max_seq_len, dimension), fill_value=special_value)\n",
        "for s, x in enumerate(X_test):\n",
        "    seq_len = len(x)\n",
        "    xx = np.array(x)\n",
        "    Xpad_test[s, 0:seq_len, :] = xx.reshape(seq_len,1)"
      ],
      "execution_count": 6,
      "outputs": []
    },
    {
      "cell_type": "markdown",
      "metadata": {
        "id": "6Cr7eV2CQdqH"
      },
      "source": [
        "# **LSTM Model**"
      ]
    },
    {
      "cell_type": "code",
      "metadata": {
        "colab": {
          "base_uri": "https://localhost:8080/"
        },
        "id": "pbGA9PV1QoUI",
        "outputId": "d036e901-0539-4585-edc7-2a62ecc50dc2"
      },
      "source": [
        "clear_session()\n",
        "\n",
        "model = Sequential()\n",
        "model.add(Masking(mask_value=special_value, input_shape=(max_seq_len, dimension)))\n",
        "model.add(LSTM(lstm_units, return_sequences=True, input_shape=(None,dimension)))\n",
        "model.add(Dropout(rate=0.3))\n",
        "model.add(LSTM(lstm_units, return_sequences=True))\n",
        "model.add(Dropout(rate=0.3))\n",
        "model.add(LSTM(lstm_units, return_sequences=True))\n",
        "model.add(Dropout(rate=0.3))\n",
        "model.add(LSTM(lstm_units))\n",
        "model.add(Dropout(rate=0.2))\n",
        "model.add(Dense(units=2 * num_class, activation='relu'))\n",
        "model.add(Dense(units=num_class, activation='sigmoid'))\n",
        "print(model.summary())\n",
        "\n",
        "filepath=\"/content/drive/MyDrive/Colab Notebooks/predict_next_game/weights.hdf5\"\n",
        "#load the trained LSTM model\n",
        "model.load_weights(filepath)\n",
        "# checkpoint callback to save model during training\n",
        "checkpoint = ModelCheckpoint(filepath, monitor='val_accuracy', verbose=1, save_best_only=True, mode='max')\n",
        "\n",
        "# Fit the model\n",
        "model.compile(optimizer='rmsprop', loss=SparseCategoricalCrossentropy(), metrics=['accuracy'])\n",
        "# model.fit(Xpad, y, epochs=150,validation_split = 0.1,callbacks=[checkpoint])\n",
        "\n"
      ],
      "execution_count": 7,
      "outputs": [
        {
          "output_type": "stream",
          "text": [
            "Model: \"sequential\"\n",
            "_________________________________________________________________\n",
            "Layer (type)                 Output Shape              Param #   \n",
            "=================================================================\n",
            "masking (Masking)            (None, 29, 1)             0         \n",
            "_________________________________________________________________\n",
            "lstm (LSTM)                  (None, 29, 20)            1760      \n",
            "_________________________________________________________________\n",
            "dropout (Dropout)            (None, 29, 20)            0         \n",
            "_________________________________________________________________\n",
            "lstm_1 (LSTM)                (None, 29, 20)            3280      \n",
            "_________________________________________________________________\n",
            "dropout_1 (Dropout)          (None, 29, 20)            0         \n",
            "_________________________________________________________________\n",
            "lstm_2 (LSTM)                (None, 29, 20)            3280      \n",
            "_________________________________________________________________\n",
            "dropout_2 (Dropout)          (None, 29, 20)            0         \n",
            "_________________________________________________________________\n",
            "lstm_3 (LSTM)                (None, 20)                3280      \n",
            "_________________________________________________________________\n",
            "dropout_3 (Dropout)          (None, 20)                0         \n",
            "_________________________________________________________________\n",
            "dense (Dense)                (None, 15472)             324912    \n",
            "_________________________________________________________________\n",
            "dense_1 (Dense)              (None, 7736)              119699128 \n",
            "=================================================================\n",
            "Total params: 120,035,640\n",
            "Trainable params: 120,035,640\n",
            "Non-trainable params: 0\n",
            "_________________________________________________________________\n",
            "None\n"
          ],
          "name": "stdout"
        }
      ]
    },
    {
      "cell_type": "markdown",
      "metadata": {
        "id": "jebvGjt_V-bm"
      },
      "source": [
        "# **Test**"
      ]
    },
    {
      "cell_type": "code",
      "metadata": {
        "id": "AVPWJ6ZFWCqb",
        "colab": {
          "base_uri": "https://localhost:8080/"
        },
        "outputId": "04af46a1-6058-4c50-a059-4ed79272d4e0"
      },
      "source": [
        "#compute hit rate for validation data\n",
        "predicted_app = model.predict(Xpad_validation)\n",
        "idx = (-predicted_app).argsort() \n",
        "hit = 0\n",
        "for i in range(len(Xpad_validation)):\n",
        "    if(y_validation[i]== idx[i,0] or y_validation[i]==idx[i,1] or y_validation[i]==idx[i,2] or y_validation[i]==idx[i,3] or y_validation[i]==idx[i,5] ):\n",
        "        hit+=1 \n",
        "print(\"hit rate = \"+str(hit/len(Xpad_validation)))\n",
        "\n",
        "# final result\n",
        "predicted_app_test = model.predict(Xpad_test)\n",
        "idx = (-predicted_app_test).argsort() \n",
        "# write to file\n",
        "Point = make_dataclass(\"point\", [(\"id\", int), (\"next_games\", str)])\n",
        "answer = []\n",
        "for i in range(len(idx)):\n",
        "  # proper format\n",
        "  temp = \"\"\n",
        "  for j in range(5):\n",
        "    temp+= str(int(idx[i][j]))\n",
        "    if j != 4 :\n",
        "      temp += \" \"\n",
        "  answer.append(Point(index_test[i],temp))\n",
        "answer = pd.DataFrame(answer)\n",
        "answer.to_csv('/content/drive/MyDrive/Colab Notebooks/predict_next_game/result.csv')\n"
      ],
      "execution_count": 8,
      "outputs": [
        {
          "output_type": "stream",
          "text": [
            "hit rate = 0.09\n"
          ],
          "name": "stdout"
        }
      ]
    }
  ]
}